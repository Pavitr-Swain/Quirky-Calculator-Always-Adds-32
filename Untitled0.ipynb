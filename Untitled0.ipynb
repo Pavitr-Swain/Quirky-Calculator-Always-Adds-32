{
  "nbformat": 4,
  "nbformat_minor": 0,
  "metadata": {
    "colab": {
      "provenance": [],
      "authorship_tag": "ABX9TyOlzU1mIYVuOX9pR8DFGvvp",
      "include_colab_link": true
    },
    "kernelspec": {
      "name": "python3",
      "display_name": "Python 3"
    },
    "language_info": {
      "name": "python"
    }
  },
  "cells": [
    {
      "cell_type": "markdown",
      "metadata": {
        "id": "view-in-github",
        "colab_type": "text"
      },
      "source": [
        "<a href=\"https://colab.research.google.com/github/Pavitr-Swain/Quirky-Calculator-Always-Adds-32/blob/main/Untitled0.ipynb\" target=\"_parent\"><img src=\"https://colab.research.google.com/assets/colab-badge.svg\" alt=\"Open In Colab\"/></a>"
      ]
    },
    {
      "cell_type": "code",
      "execution_count": 11,
      "metadata": {
        "colab": {
          "base_uri": "https://localhost:8080/"
        },
        "id": "mH5eXgPd-Bhu",
        "outputId": "43c2a044-76cb-4b55-fea6-729da46f4879"
      },
      "outputs": [
        {
          "output_type": "stream",
          "name": "stderr",
          "text": [
            "<ipython-input-11-15687d9afc77>:43: FutureWarning: \n",
            "\n",
            "Passing `palette` without assigning `hue` is deprecated and will be removed in v0.14.0. Assign the `x` variable to `hue` and set `legend=False` for the same effect.\n",
            "\n",
            "  sns.barplot(x=total_emissions_by_category.index, y=total_emissions_by_category.values, palette=\"viridis\")\n"
          ]
        },
        {
          "output_type": "execute_result",
          "data": {
            "text/plain": [
              "{'calculated_results': '/mnt/data/calculated_results.csv',\n",
              " 'bar_chart': '/mnt/data/total_emissions_by_category.png',\n",
              " 'pie_chart': '/mnt/data/emissions_breakdown.png',\n",
              " 'report': '/mnt/data/report.txt'}"
            ]
          },
          "metadata": {},
          "execution_count": 11
        }
      ],
      "source": [
        "import pandas as pd\n",
        "import matplotlib.pyplot as plt\n",
        "import seaborn as sns\n",
        "\n",
        "# Step 1: Database Schema Development\n",
        "# Define the schema using Pandas DataFrames\n",
        "emission_categories = pd.DataFrame({\n",
        "    \"CategoryID\": [1, 2, 3],\n",
        "    \"CategoryName\": [\"Transport\", \"Energy Use\", \"Waste\"]\n",
        "})\n",
        "\n",
        "activity_data = pd.DataFrame({\n",
        "    \"ActivityID\": [101, 102, 103],\n",
        "    \"ActivityName\": [\"Vehicle Travel\", \"Electricity Usage\", \"Landfill Waste\"],\n",
        "    \"CategoryID\": [1, 2, 3],\n",
        "    \"ActivityData\": [100, 200, 50]  # Hypothetical data in units (e.g., km, kWh, kg)\n",
        "})\n",
        "\n",
        "emission_factors = pd.DataFrame({\n",
        "    \"FactorID\": [1, 2, 3],\n",
        "    \"ActivityID\": [101, 102, 103],\n",
        "    \"EmissionFactor\": [0.21, 0.5, 2.5]  # Hypothetical factors (e.g., kg CO2e/unit)\n",
        "})\n",
        "\n",
        "# Step 2: Populate Schema and Calculate Emissions\n",
        "# Merge tables and calculate emissions\n",
        "merged_data = pd.merge(activity_data, emission_factors, on=\"ActivityID\")\n",
        "merged_data = pd.merge(merged_data, emission_categories, on=\"CategoryID\")\n",
        "merged_data[\"Emissions\"] = merged_data[\"ActivityData\"] * merged_data[\"EmissionFactor\"]\n",
        "\n",
        "# Create a Calculated Results DataFrame\n",
        "calculated_results = merged_data[[\"ActivityName\", \"CategoryName\", \"ActivityData\", \"EmissionFactor\", \"Emissions\"]]\n",
        "\n",
        "# Step 3: Analyses and Visualizations\n",
        "# Total emissions by category\n",
        "total_emissions_by_category = calculated_results.groupby(\"CategoryName\")[\"Emissions\"].sum()\n",
        "\n",
        "# Highest-emitting activities\n",
        "highest_emitting_activities = calculated_results.sort_values(by=\"Emissions\", ascending=False)\n",
        "\n",
        "# Visualize total emissions by category (Bar Chart)\n",
        "plt.figure(figsize=(8, 5))\n",
        "sns.barplot(x=total_emissions_by_category.index, y=total_emissions_by_category.values, palette=\"viridis\")\n",
        "plt.title(\"Total Emissions by Category\")\n",
        "plt.ylabel(\"Total Emissions (kg CO2e)\")\n",
        "plt.xlabel(\"Category\")\n",
        "plt.savefig(\"/mnt/data/total_emissions_by_category.png\")\n",
        "plt.close()\n",
        "\n",
        "# Visualize emissions breakdown (Pie Chart)\n",
        "plt.figure(figsize=(8, 5))\n",
        "plt.pie(\n",
        "    total_emissions_by_category.values,\n",
        "    labels=total_emissions_by_category.index,\n",
        "    autopct=\"%1.1f%%\",\n",
        "    colors=sns.color_palette(\"viridis\", len(total_emissions_by_category))\n",
        ")\n",
        "plt.title(\"Emissions Breakdown by Category\")\n",
        "plt.savefig(\"/mnt/data/emissions_breakdown.png\")\n",
        "plt.close()\n",
        "\n",
        "# Step 4: Identify Data Gaps or Inconsistencies\n",
        "# Check for missing or inconsistent data\n",
        "data_gaps = calculated_results[calculated_results.isnull().any(axis=1)]\n",
        "\n",
        "# Save results and documentation\n",
        "calculated_results.to_csv(\"/mnt/data/calculated_results.csv\", index=False)\n",
        "\n",
        "# Prepare brief report as a text summary\n",
        "report = f\"\"\"\n",
        "=== Database Schema ===\n",
        "Emission Categories:\n",
        "{emission_categories.to_string(index=False)}\n",
        "\n",
        "Activity Data:\n",
        "{activity_data.to_string(index=False)}\n",
        "\n",
        "Emission Factors:\n",
        "{emission_factors.to_string(index=False)}\n",
        "\n",
        "=== Calculated Results ===\n",
        "{calculated_results.to_string(index=False)}\n",
        "\n",
        "=== Analysis ===\n",
        "Total Emissions by Category:\n",
        "{total_emissions_by_category.to_string()}\n",
        "\n",
        "Highest-Emitting Activities:\n",
        "{highest_emitting_activities[['ActivityName', 'Emissions']].to_string(index=False)}\n",
        "\n",
        "Data Gaps (if any):\n",
        "{data_gaps.to_string(index=False) if not data_gaps.empty else \"No data gaps found.\"}\n",
        "\n",
        "Results saved to 'calculated_results.csv'.\n",
        "Visualizations saved as 'total_emissions_by_category.png' and 'emissions_breakdown.png'.\n",
        "\"\"\"\n",
        "\n",
        "with open(\"/mnt/data/report.txt\", \"w\") as file:\n",
        "    file.write(report)\n",
        "\n",
        "# File paths for submission\n",
        "{\n",
        "    \"calculated_results\": \"/mnt/data/calculated_results.csv\",\n",
        "    \"bar_chart\": \"/mnt/data/total_emissions_by_category.png\",\n",
        "    \"pie_chart\": \"/mnt/data/emissions_breakdown.png\",\n",
        "    \"report\": \"/mnt/data/report.txt\"\n",
        "}\n",
        ""
      ]
    }
  ]
}